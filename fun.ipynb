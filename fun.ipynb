{
 "cells": [
  {
   "cell_type": "code",
   "execution_count": 1,
   "metadata": {},
   "outputs": [
    {
     "name": "stdout",
     "output_type": "stream",
     "text": [
      "hello\n"
     ]
    }
   ],
   "source": [
    "print(\"hello\")"
   ]
  },
  {
   "cell_type": "markdown",
   "metadata": {},
   "source": [
    "# Normal Function."
   ]
  },
  {
   "cell_type": "code",
   "execution_count": 2,
   "metadata": {},
   "outputs": [
    {
     "name": "stdout",
     "output_type": "stream",
     "text": [
      "hai\n"
     ]
    }
   ],
   "source": [
    "def hai():\n",
    "    print(\"hai\")\n",
    "\n",
    "hai()"
   ]
  },
  {
   "cell_type": "markdown",
   "metadata": {},
   "source": [
    "# Function with Arguments"
   ]
  },
  {
   "cell_type": "code",
   "execution_count": 3,
   "metadata": {},
   "outputs": [
    {
     "name": "stdout",
     "output_type": "stream",
     "text": [
      "hai hello\n"
     ]
    }
   ],
   "source": [
    "def hai(a):\n",
    "    print(a)\n",
    "\n",
    "hai(\"hai hello\")"
   ]
  },
  {
   "cell_type": "markdown",
   "metadata": {},
   "source": [
    "# Function with defalut Argument"
   ]
  },
  {
   "cell_type": "code",
   "execution_count": 4,
   "metadata": {},
   "outputs": [
    {
     "name": "stdout",
     "output_type": "stream",
     "text": [
      "WElcome\n",
      "ravi\n"
     ]
    }
   ],
   "source": [
    "def hai(a = \"WElcome\"):\n",
    "    print(a)\n",
    "\n",
    "hai()\n",
    "hai(\"ravi\")"
   ]
  },
  {
   "cell_type": "markdown",
   "metadata": {},
   "source": [
    "# Keyword Arguments"
   ]
  },
  {
   "cell_type": "code",
   "execution_count": 11,
   "metadata": {},
   "outputs": [
    {
     "name": "stdout",
     "output_type": "stream",
     "text": [
      "Full name is RAvikanth\n",
      "First name is  RAvi\n",
      "Last Name si  kanth\n"
     ]
    }
   ],
   "source": [
    "def hai(a,b):\n",
    "    print(\"Full name is\",a+b)\n",
    "    print(\"First name is \", a)\n",
    "    print('Last Name si ', b)\n",
    "\n",
    "hai('RAvi','kanth')\n"
   ]
  },
  {
   "cell_type": "code",
   "execution_count": 17,
   "metadata": {},
   "outputs": [
    {
     "name": "stdout",
     "output_type": "stream",
     "text": [
      "Full name is RAvikanth\n",
      "First name is  RAvi\n",
      "Last Name si  kanth\n",
      "Full name is Saranathancollege of Engineering\n",
      "First name is  Saranathan\n",
      "Last Name si  college of Engineering\n",
      "Full name is gokulcollege of Engineering\n",
      "First name is  gokul\n",
      "Last Name si  college of Engineering\n",
      "Full name is kamaleshgokul\n",
      "First name is  kamalesh\n",
      "Last Name si  gokul\n"
     ]
    }
   ],
   "source": [
    "def hai(a = 'Saranathan',b = \"college of Engineering\"):\n",
    "    print(\"Full name is\",a+b)\n",
    "    print(\"First name is \", a)\n",
    "    print('Last Name si ', b)\n",
    "\n",
    "hai('RAvi','kanth')\n",
    "hai()\n",
    "hai(\"gokul\")\n",
    "hai( b = \"gokul\",a = 'kamalesh')\n"
   ]
  },
  {
   "cell_type": "markdown",
   "metadata": {},
   "source": [
    "# Variable length Arguments"
   ]
  },
  {
   "cell_type": "code",
   "execution_count": 1,
   "metadata": {},
   "outputs": [],
   "source": [
    "def myFun(*argv):\n",
    "    for arg in argv:\n",
    "        print(arg)\n"
   ]
  },
  {
   "cell_type": "code",
   "execution_count": 2,
   "metadata": {},
   "outputs": [
    {
     "name": "stdout",
     "output_type": "stream",
     "text": [
      "hai\n",
      "hello\n",
      "Welcome\n"
     ]
    }
   ],
   "source": [
    "myFun('hai',\"hello\", \"Welcome\")"
   ]
  },
  {
   "cell_type": "markdown",
   "metadata": {},
   "source": [
    "# Variable Length Keyword arguments"
   ]
  },
  {
   "cell_type": "code",
   "execution_count": 3,
   "metadata": {},
   "outputs": [
    {
     "name": "stdout",
     "output_type": "stream",
     "text": [
      "first == Hello\n",
      "mid == Salut\n",
      "last == Hola\n"
     ]
    }
   ],
   "source": [
    "def myFun(**kwargs):\n",
    "    for key, value in kwargs.items():\n",
    "        print('%s == %s' % (key, value))\n",
    "\n",
    "myFun(first='Hello', mid='Salut', last='Hola')\n"
   ]
  },
  {
   "cell_type": "markdown",
   "metadata": {},
   "source": [
    "# Call by Value and Call by reference"
   ]
  },
  {
   "cell_type": "markdown",
   "metadata": {},
   "source": [
    "### call by value - cannot change the value - immutable"
   ]
  },
  {
   "cell_type": "code",
   "execution_count": 4,
   "metadata": {},
   "outputs": [
    {
     "name": "stdout",
     "output_type": "stream",
     "text": [
      "Inside Function: MerciBeaucoup\n",
      "Outside Function: Bonjour\n"
     ]
    }
   ],
   "source": [
    "string = 'Bonjour'\n",
    "def test(string):    \n",
    "    string = 'MerciBeaucoup'\n",
    "    print(\"Inside Function:\", string)\n",
    "\n",
    "test(string)\n",
    "print(\"Outside Function:\", string)\n"
   ]
  },
  {
   "cell_type": "markdown",
   "metadata": {},
   "source": [
    "### call by reference - value can be changed - mutable"
   ]
  },
  {
   "cell_type": "code",
   "execution_count": 5,
   "metadata": {},
   "outputs": [
    {
     "name": "stdout",
     "output_type": "stream",
     "text": [
      "Inside Function: [10, 20, 30, 40, 50]\n",
      "Outside Function: [10, 20, 30, 40, 50]\n"
     ]
    }
   ],
   "source": [
    "def add_more(mylist):\n",
    "    mylist.append(50)\n",
    "    print(\"Inside Function:\", mylist)\n",
    "\n",
    "mylist = [10, 20, 30, 40]\n",
    "add_more(mylist)\n",
    "print(\"Outside Function:\", mylist)\n"
   ]
  },
  {
   "cell_type": "markdown",
   "metadata": {},
   "source": [
    "### Operator Overloading.\n",
    "    Binary Operators\n",
    "    Comparision Operators\n",
    "    Assignment Operators\n",
    "    Unary Operators\n"
   ]
  },
  {
   "cell_type": "markdown",
   "metadata": {},
   "source": [
    "## Binary Operators - Complex addision"
   ]
  },
  {
   "cell_type": "code",
   "execution_count": 6,
   "metadata": {},
   "outputs": [
    {
     "name": "stdout",
     "output_type": "stream",
     "text": [
      "(44, 34)\n"
     ]
    }
   ],
   "source": [
    "class complex_1:\n",
    "    def __init__(self, X, Y):\n",
    "        self.X = X\n",
    "        self.Y = Y\n",
    "\n",
    "    def __add__(self, U):\n",
    "        return complex_1(self.X + U.X, self.Y + U.Y)\n",
    "\n",
    "    def __str__(self):\n",
    "        return f\"({self.X}, {self.Y})\"\n",
    "\n",
    "Object_1 = complex_1(23, 12)\n",
    "Object_2 = complex_1(21, 22)\n",
    "Object_3 = Object_1 + Object_2\n",
    "print(Object_3)\n"
   ]
  },
  {
   "cell_type": "markdown",
   "metadata": {},
   "source": [
    "### Comparision Operators"
   ]
  },
  {
   "cell_type": "code",
   "execution_count": 7,
   "metadata": {},
   "outputs": [
    {
     "name": "stdout",
     "output_type": "stream",
     "text": [
      "True\n"
     ]
    }
   ],
   "source": [
    "class Example:\n",
    "    def __init__(self, a):\n",
    "        self.a = a\n",
    "\n",
    "    def __gt__(self, other):\n",
    "        return self.a > other.a\n",
    "\n",
    "obj1 = Example(1)\n",
    "obj2 = Example(2)\n",
    "print(obj2 > obj1)\n"
   ]
  },
  {
   "cell_type": "markdown",
   "metadata": {},
   "source": [
    "### Assignment Operators - complex addision"
   ]
  },
  {
   "cell_type": "code",
   "execution_count": 8,
   "metadata": {},
   "outputs": [
    {
     "name": "stdout",
     "output_type": "stream",
     "text": [
      "(3,5)\n"
     ]
    }
   ],
   "source": [
    "class Example:\n",
    "    def __init__(self, a, b):\n",
    "        self.a = a\n",
    "        self.b = b\n",
    "\n",
    "    def __str__(self):\n",
    "        return \"({0},{1})\".format(self.a, self.b)\n",
    "\n",
    "    def __iadd__(self, other):\n",
    "        self.a += other.a\n",
    "        self.b += other.b\n",
    "        return self\n",
    "\n",
    "obj1 = Example(1, 2)\n",
    "obj2 = Example(2, 3)\n",
    "obj2 += obj1\n",
    "print(obj2)\n"
   ]
  },
  {
   "cell_type": "markdown",
   "metadata": {},
   "source": [
    "### Unary Operators"
   ]
  },
  {
   "cell_type": "code",
   "execution_count": 2,
   "metadata": {},
   "outputs": [
    {
     "name": "stdout",
     "output_type": "stream",
     "text": [
      "Original vector: (3,4)\n",
      "Negated vector: (-3,-4)\n"
     ]
    }
   ],
   "source": [
    "class vector:\n",
    "    def __init__(self, x, y):\n",
    "        self.x = x\n",
    "        self.y = y\n",
    "\n",
    "    def __str__(self):\n",
    "        return \"({0},{1})\".format(self.x, self.y)\n",
    "\n",
    "    def __neg__(self):\n",
    "        X = -self.x\n",
    "        Y = -self.y\n",
    "        return vector(X, Y)\n",
    "# Create an instance of the vector class\n",
    "v = vector(3, 4)\n",
    "# Use the unary negation operator on the instance\n",
    "negated_v = -v\n",
    "# Print the original and negated vectors\n",
    "print(\"Original vector:\", v)\n",
    "print(\"Negated vector:\", negated_v)\n"
   ]
  },
  {
   "cell_type": "code",
   "execution_count": 3,
   "metadata": {},
   "outputs": [
    {
     "name": "stdout",
     "output_type": "stream",
     "text": [
      "v1 = (-10,-15)\n",
      "v2 = (-5,25)\n"
     ]
    }
   ],
   "source": [
    "#creating vector objects\n",
    "v1 = vector(10, 15)\n",
    "v2 = vector(5, -25)\n",
    "\n",
    "#using overloaded unary - operator \n",
    "#with vector objects\n",
    "v1 = -v1\n",
    "v2 = -v2\n",
    "\n",
    "#displaying the result\n",
    "print(\"v1 =\", v1)\n",
    "print(\"v2 =\", v2)\n",
    "\n"
   ]
  },
  {
   "cell_type": "code",
   "execution_count": null,
   "metadata": {},
   "outputs": [],
   "source": []
  }
 ],
 "metadata": {
  "kernelspec": {
   "display_name": "venv",
   "language": "python",
   "name": "python3"
  },
  "language_info": {
   "codemirror_mode": {
    "name": "ipython",
    "version": 3
   },
   "file_extension": ".py",
   "mimetype": "text/x-python",
   "name": "python",
   "nbconvert_exporter": "python",
   "pygments_lexer": "ipython3",
   "version": "3.12.1"
  }
 },
 "nbformat": 4,
 "nbformat_minor": 2
}
